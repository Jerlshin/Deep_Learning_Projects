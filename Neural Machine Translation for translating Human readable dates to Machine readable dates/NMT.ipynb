{
 "cells": [
  {
   "cell_type": "markdown",
   "metadata": {},
   "source": [
    "# Neural Machine Translation"
   ]
  },
  {
   "cell_type": "code",
   "execution_count": 2,
   "metadata": {},
   "outputs": [
    {
     "name": "stderr",
     "output_type": "stream",
     "text": [
      "2023-09-08 10:58:40.798074: I tensorflow/core/util/port.cc:110] oneDNN custom operations are on. You may see slightly different numerical results due to floating-point round-off errors from different computation orders. To turn them off, set the environment variable `TF_ENABLE_ONEDNN_OPTS=0`.\n",
      "2023-09-08 10:58:40.799353: I tensorflow/tsl/cuda/cudart_stub.cc:28] Could not find cuda drivers on your machine, GPU will not be used.\n",
      "2023-09-08 10:58:40.829990: I tensorflow/tsl/cuda/cudart_stub.cc:28] Could not find cuda drivers on your machine, GPU will not be used.\n",
      "2023-09-08 10:58:40.830456: I tensorflow/core/platform/cpu_feature_guard.cc:182] This TensorFlow binary is optimized to use available CPU instructions in performance-critical operations.\n",
      "To enable the following instructions: AVX2 AVX512F AVX512_VNNI FMA, in other operations, rebuild TensorFlow with the appropriate compiler flags.\n",
      "2023-09-08 10:58:41.478312: W tensorflow/compiler/tf2tensorrt/utils/py_utils.cc:38] TF-TRT Warning: Could not find TensorRT\n"
     ]
    }
   ],
   "source": [
    "from keras.layers import Bidirectional, Concatenate # to concatenate the outputs of the multiple layers along a specified axis. To combine the information from different sources\n",
    "from keras.layers import LSTM, Multiply, Dot, Input, Permute # too re arrnge he order of the dimension\n",
    "from keras.layers import Dense, Activation, Lambda, RepeatVector # repeats the input tensor a specified number of times along a specified axis. to replicate the context vector before feeding into the decoder\n",
    "\n",
    "from keras.optimizers import Adam\n",
    "from keras.utils import to_categorical\n",
    "from keras.models import load_model, Model\n",
    "\n",
    "import keras.backend as K\n",
    "\n",
    "import numpy as np\n",
    "import matplotlib.pyplot as plt\n",
    "from tqdm import tqdm\n",
    "\n",
    "from babel.dates import format_date\n",
    "\n",
    "from nmt_utils import *"
   ]
  },
  {
   "cell_type": "markdown",
   "metadata": {},
   "source": [
    "### Translating human readable dates into Machine redable date"
   ]
  },
  {
   "cell_type": "code",
   "execution_count": 3,
   "metadata": {},
   "outputs": [
    {
     "name": "stderr",
     "output_type": "stream",
     "text": [
      "100%|██████████| 10000/10000 [00:00<00:00, 34723.68it/s]\n"
     ]
    }
   ],
   "source": [
    "m = 10000 # size of dataset\n",
    "dataset, human_vocab, machine_vocab, inv_machine_vocab = load_dataset(m)"
   ]
  },
  {
   "cell_type": "code",
   "execution_count": 4,
   "metadata": {},
   "outputs": [
    {
     "data": {
      "text/plain": [
       "[('9 may 1998', '1998-05-09'),\n",
       " ('10.11.19', '2019-11-10'),\n",
       " ('9/10/70', '1970-09-10'),\n",
       " ('saturday april 28 1990', '1990-04-28'),\n",
       " ('thursday january 26 1995', '1995-01-26'),\n",
       " ('monday march 7 1983', '1983-03-07'),\n",
       " ('sunday may 22 1988', '1988-05-22'),\n",
       " ('08 jul 2008', '2008-07-08'),\n",
       " ('8 sep 1999', '1999-09-08'),\n",
       " ('thursday january 1 1981', '1981-01-01')]"
      ]
     },
     "execution_count": 4,
     "metadata": {},
     "output_type": "execute_result"
    }
   ],
   "source": [
    "dataset[:10]"
   ]
  },
  {
   "cell_type": "code",
   "execution_count": 5,
   "metadata": {},
   "outputs": [],
   "source": [
    "# dataset - tuples of human and machine readable data\n",
    "# human_vocab - dict, char in human redable dates to and int\n",
    "# machine_vocab - dict, char in machine readable dates to int\n",
    "# inv_machine_vocab - inverse dict of machine_vocab"
   ]
  },
  {
   "cell_type": "code",
   "execution_count": 6,
   "metadata": {},
   "outputs": [
    {
     "data": {
      "text/plain": [
       "((10000, 30), (10000, 10), (10000, 30, 37), (10000, 10, 11))"
      ]
     },
     "execution_count": 6,
     "metadata": {},
     "output_type": "execute_result"
    }
   ],
   "source": [
    "Tx = 30 # max input length\n",
    "Ty = 10\n",
    "X, Y, Xoh, Yoh = preprocess_data(dataset, human_vocab, machine_vocab, Tx, Ty)\n",
    "# X, Y - processed version of human and Mahine readable dates\n",
    "# Xoh, Y0h - On-hot version \n",
    "X.shape, Y.shape, Xoh.shape, Yoh.shape"
   ]
  },
  {
   "cell_type": "code",
   "execution_count": 7,
   "metadata": {},
   "outputs": [
    {
     "data": {
      "text/plain": [
       "('9 may 1998', '1998-05-09')"
      ]
     },
     "execution_count": 7,
     "metadata": {},
     "output_type": "execute_result"
    }
   ],
   "source": [
    "index = 0\n",
    "dataset[index][0], dataset[index][1]"
   ]
  },
  {
   "cell_type": "code",
   "execution_count": 8,
   "metadata": {},
   "outputs": [
    {
     "data": {
      "text/plain": [
       "(array([12,  0, 24, 13, 34,  0,  4, 12, 12, 11, 36, 36, 36, 36, 36, 36, 36,\n",
       "        36, 36, 36, 36, 36, 36, 36, 36, 36, 36, 36, 36, 36]),\n",
       " array([ 2, 10, 10,  9,  0,  1,  6,  0,  1, 10]))"
      ]
     },
     "execution_count": 8,
     "metadata": {},
     "output_type": "execute_result"
    }
   ],
   "source": [
    "X[index], Y[index]"
   ]
  },
  {
   "cell_type": "code",
   "execution_count": 9,
   "metadata": {},
   "outputs": [
    {
     "data": {
      "text/plain": [
       "(array([[0., 0., 0., ..., 0., 0., 0.],\n",
       "        [1., 0., 0., ..., 0., 0., 0.],\n",
       "        [0., 0., 0., ..., 0., 0., 0.],\n",
       "        ...,\n",
       "        [0., 0., 0., ..., 0., 0., 1.],\n",
       "        [0., 0., 0., ..., 0., 0., 1.],\n",
       "        [0., 0., 0., ..., 0., 0., 1.]], dtype=float32),\n",
       " array([[0., 0., 1., 0., 0., 0., 0., 0., 0., 0., 0.],\n",
       "        [0., 0., 0., 0., 0., 0., 0., 0., 0., 0., 1.],\n",
       "        [0., 0., 0., 0., 0., 0., 0., 0., 0., 0., 1.],\n",
       "        [0., 0., 0., 0., 0., 0., 0., 0., 0., 1., 0.],\n",
       "        [1., 0., 0., 0., 0., 0., 0., 0., 0., 0., 0.],\n",
       "        [0., 1., 0., 0., 0., 0., 0., 0., 0., 0., 0.],\n",
       "        [0., 0., 0., 0., 0., 0., 1., 0., 0., 0., 0.],\n",
       "        [1., 0., 0., 0., 0., 0., 0., 0., 0., 0., 0.],\n",
       "        [0., 1., 0., 0., 0., 0., 0., 0., 0., 0., 0.],\n",
       "        [0., 0., 0., 0., 0., 0., 0., 0., 0., 0., 1.]], dtype=float32))"
      ]
     },
     "execution_count": 9,
     "metadata": {},
     "output_type": "execute_result"
    }
   ],
   "source": [
    "Xoh[index], Yoh[index]"
   ]
  },
  {
   "cell_type": "markdown",
   "metadata": {},
   "source": [
    "### Attention Mechanism"
   ]
  },
  {
   "cell_type": "code",
   "execution_count": 10,
   "metadata": {},
   "outputs": [],
   "source": [
    "## We use pre-attentions Bi-LSTM with Tx steps and post-attention Bi-LSTM with Ty steps\n",
    "## In the post-attention Bi-LSTM, we pass s_t (output activation) and c_t (hidden cell state) and at time t, it does not take y_(t-1) as input, it only takes s_t and c_t. Because the date is not dependent of the previous character\n",
    "## a_t to represent the cocatenation of the both forward-direction and backward-direction\n",
    "## It uses RepeatVector node to copy s_(t-1)'s value Tx times and then Concatenation to concatenate s_(t-1) and a_t to compute e_(t, t')"
   ]
  },
  {
   "cell_type": "markdown",
   "metadata": {},
   "source": [
    "$$context^{<t>} = \\sum_{t' = 1}^{T_x} \\alpha^{<t,t'>}a^{<t'>}\\tag{1}$$ \n"
   ]
  },
  {
   "cell_type": "code",
   "execution_count": 11,
   "metadata": {},
   "outputs": [],
   "source": [
    "repeater  = RepeatVector(Tx)\n",
    "concatenator = Concatenate(axis=-1)\n",
    "\n",
    "densor1 = Dense(10, activation=\"tanh\")\n",
    "densor2 = Dense(1, activation=\"relu\")\n",
    "\n",
    "activator = Activation(softmax, name = 'attention_weights') # custom softmax layer\n",
    "\n",
    "dotor = Dot(axes=1)"
   ]
  },
  {
   "cell_type": "code",
   "execution_count": 12,
   "metadata": {},
   "outputs": [],
   "source": [
    "## given all the hidden states of the Bi-LSTM [a_1, a_2, a_3.....a_Tx] and the  prev hidden state of the second LSTM s_(t-1)\n",
    "# This will compute the attention_weights alpha_(t, 1), alpha(t, 2), ..... and the output the context vectorc_t\n",
    "\n",
    "def one_Step_attention(a, s_prev):\n",
    "    # outputs context vector computed as a dot product of the attention and the hiddent state of the Bi_LSTM\n",
    "    # performs one step of attention\n",
    "    \n",
    "    # to repeat the s_prv to be the shape of the (m, Tx, n_s) so that concatenate it with all hiddent states2\n",
    "    s_prev = repeater(s_prev) # to repeat the previous hidden layer for time step in the input sequence\n",
    "    concat = concatenator([a, s_prev]) # cncatenate laong the lat axis, -1\n",
    "    # applies the no linear transformation to the concatenated layer\n",
    "    e = densor1(concat)\n",
    "    # relu and for getting the e_t prime\n",
    "    energies = densor2(e)\n",
    "    # calculate the attention parameters\n",
    "    alphas = activator(energies)\n",
    "    # calculate the context vector \n",
    "    context = dotor([alphas, a])\n",
    "    \n",
    "    # returns context vector, input of the next post-attention LSTM cell\n",
    "    return context"
   ]
  },
  {
   "cell_type": "code",
   "execution_count": 13,
   "metadata": {},
   "outputs": [
    {
     "name": "stderr",
     "output_type": "stream",
     "text": [
      "2023-09-08 10:58:43.225646: I tensorflow/compiler/xla/stream_executor/cuda/cuda_gpu_executor.cc:995] successful NUMA node read from SysFS had negative value (-1), but there must be at least one NUMA node, so returning NUMA node zero. See more at https://github.com/torvalds/linux/blob/v6.0/Documentation/ABI/testing/sysfs-bus-pci#L344-L355\n",
      "2023-09-08 10:58:43.226093: W tensorflow/core/common_runtime/gpu/gpu_device.cc:1960] Cannot dlopen some GPU libraries. Please make sure the missing libraries mentioned above are installed properly if you would like to use GPU. Follow the guide at https://www.tensorflow.org/install/gpu for how to download and setup the required libraries for your platform.\n",
      "Skipping registering GPU devices...\n"
     ]
    }
   ],
   "source": [
    "n_a = 32\n",
    "n_s = 64\n",
    "\n",
    "post_activation_LSTM_cell =LSTM(n_s, return_state=True)\n",
    "output_layer = Dense(len(machine_vocab), activation=softmax)"
   ]
  },
  {
   "cell_type": "code",
   "execution_count": 14,
   "metadata": {},
   "outputs": [],
   "source": [
    "# GRADED FUNCTION: model\n",
    "\n",
    "def model(Tx, Ty, n_a, n_s, human_vocab_size, machine_vocab_size):\n",
    "    \"\"\"\n",
    "    Arguments:\n",
    "    Tx -- length of the input sequence\n",
    "    Ty -- length of the output sequence\n",
    "    n_a -- hidden state size of the Bi-LSTM\n",
    "    n_s -- hidden state size of the post-attention LSTM\n",
    "    human_vocab_size -- size of the python dictionary \"human_vocab\"\n",
    "    machine_vocab_size -- size of the python dictionary \"machine_vocab\"\n",
    "\n",
    "    Returns:\n",
    "    model -- Keras model instance\n",
    "    \"\"\"\n",
    "    \n",
    "    # Define the inputs of your model with a shape (Tx,)\n",
    "    # Define s0 and c0, initial hidden state for the decoder LSTM of shape (n_s,)\n",
    "    X = Input(shape=(Tx, human_vocab_size))\n",
    "    s0 = Input(shape=(n_s,), name='s0')\n",
    "    c0 = Input(shape=(n_s,), name='c0')\n",
    "    s = s0\n",
    "    c = c0\n",
    "    \n",
    "    # Initialize empty list of outputs\n",
    "    outputs = []\n",
    "    \n",
    "    ### START CODE HERE ###\n",
    "    \n",
    "    # Step 1: Define your pre-attention Bi-LSTM. Remember to use return_sequences=True. (≈ 1 line)\n",
    "    a = Bidirectional(LSTM(n_a, return_sequences=True),input_shape=(m, Tx, n_a*2))(X)  \n",
    "    \n",
    "    # Step 2: Iterate for Ty steps\n",
    "    for t in range(Ty):\n",
    "    \n",
    "        # Step 2.A: Perform one step of the attention mechanism to get back the context vector at step t (≈ 1 line)\n",
    "        context = one_Step_attention(a, s)\n",
    "        \n",
    "        # Step 2.B: Apply the post-attention LSTM cell to the \"context\" vector.\n",
    "        # Don't forget to pass: initial_state = [hidden state, cell state] (≈ 1 line)\n",
    "        s, _, c = post_activation_LSTM_cell(context,initial_state = [s, c] ) \n",
    "        \n",
    "        # Step 2.C: Apply Dense layer to the hidden state output of the post-attention LSTM (≈ 1 line)\n",
    "        out = output_layer(s)\n",
    "        \n",
    "        # Step 2.D: Append \"out\" to the \"outputs\" list (≈ 1 line)\n",
    "        outputs.append(out)\n",
    "    \n",
    "    # Step 3: Create model instance taking three inputs and returning the list of outputs. (≈ 1 line)\n",
    "    model = Model(inputs=[X,s0,c0],outputs=outputs)\n",
    "    \n",
    "    ### END CODE HERE ###\n",
    "    \n",
    "    return model"
   ]
  },
  {
   "cell_type": "code",
   "execution_count": 15,
   "metadata": {},
   "outputs": [],
   "source": [
    "model = model(Tx, Ty, n_a, n_s, len(human_vocab), len(machine_vocab))"
   ]
  },
  {
   "cell_type": "code",
   "execution_count": 16,
   "metadata": {},
   "outputs": [
    {
     "name": "stdout",
     "output_type": "stream",
     "text": [
      "Model: \"model\"\n",
      "__________________________________________________________________________________________________\n",
      " Layer (type)                Output Shape                 Param #   Connected to                  \n",
      "==================================================================================================\n",
      " input_1 (InputLayer)        [(None, 30, 37)]             0         []                            \n",
      "                                                                                                  \n",
      " s0 (InputLayer)             [(None, 64)]                 0         []                            \n",
      "                                                                                                  \n",
      " bidirectional (Bidirection  (None, 30, 64)               17920     ['input_1[0][0]']             \n",
      " al)                                                                                              \n",
      "                                                                                                  \n",
      " repeat_vector (RepeatVecto  (None, 30, 64)               0         ['s0[0][0]',                  \n",
      " r)                                                                  'lstm[0][0]',                \n",
      "                                                                     'lstm[1][0]',                \n",
      "                                                                     'lstm[2][0]',                \n",
      "                                                                     'lstm[3][0]',                \n",
      "                                                                     'lstm[4][0]',                \n",
      "                                                                     'lstm[5][0]',                \n",
      "                                                                     'lstm[6][0]',                \n",
      "                                                                     'lstm[7][0]',                \n",
      "                                                                     'lstm[8][0]']                \n",
      "                                                                                                  \n",
      " concatenate (Concatenate)   (None, 30, 128)              0         ['bidirectional[0][0]',       \n",
      "                                                                     'repeat_vector[0][0]',       \n",
      "                                                                     'bidirectional[0][0]',       \n",
      "                                                                     'repeat_vector[1][0]',       \n",
      "                                                                     'bidirectional[0][0]',       \n",
      "                                                                     'repeat_vector[2][0]',       \n",
      "                                                                     'bidirectional[0][0]',       \n",
      "                                                                     'repeat_vector[3][0]',       \n",
      "                                                                     'bidirectional[0][0]',       \n",
      "                                                                     'repeat_vector[4][0]',       \n",
      "                                                                     'bidirectional[0][0]',       \n",
      "                                                                     'repeat_vector[5][0]',       \n",
      "                                                                     'bidirectional[0][0]',       \n",
      "                                                                     'repeat_vector[6][0]',       \n",
      "                                                                     'bidirectional[0][0]',       \n",
      "                                                                     'repeat_vector[7][0]',       \n",
      "                                                                     'bidirectional[0][0]',       \n",
      "                                                                     'repeat_vector[8][0]',       \n",
      "                                                                     'bidirectional[0][0]',       \n",
      "                                                                     'repeat_vector[9][0]']       \n",
      "                                                                                                  \n",
      " dense (Dense)               (None, 30, 10)               1290      ['concatenate[0][0]',         \n",
      "                                                                     'concatenate[1][0]',         \n",
      "                                                                     'concatenate[2][0]',         \n",
      "                                                                     'concatenate[3][0]',         \n",
      "                                                                     'concatenate[4][0]',         \n",
      "                                                                     'concatenate[5][0]',         \n",
      "                                                                     'concatenate[6][0]',         \n",
      "                                                                     'concatenate[7][0]',         \n",
      "                                                                     'concatenate[8][0]',         \n",
      "                                                                     'concatenate[9][0]']         \n",
      "                                                                                                  \n",
      " dense_1 (Dense)             (None, 30, 1)                11        ['dense[0][0]',               \n",
      "                                                                     'dense[1][0]',               \n",
      "                                                                     'dense[2][0]',               \n",
      "                                                                     'dense[3][0]',               \n",
      "                                                                     'dense[4][0]',               \n",
      "                                                                     'dense[5][0]',               \n",
      "                                                                     'dense[6][0]',               \n",
      "                                                                     'dense[7][0]',               \n",
      "                                                                     'dense[8][0]',               \n",
      "                                                                     'dense[9][0]']               \n",
      "                                                                                                  \n",
      " attention_weights (Activat  (None, 30, 1)                0         ['dense_1[0][0]',             \n",
      " ion)                                                                'dense_1[1][0]',             \n",
      "                                                                     'dense_1[2][0]',             \n",
      "                                                                     'dense_1[3][0]',             \n",
      "                                                                     'dense_1[4][0]',             \n",
      "                                                                     'dense_1[5][0]',             \n",
      "                                                                     'dense_1[6][0]',             \n",
      "                                                                     'dense_1[7][0]',             \n",
      "                                                                     'dense_1[8][0]',             \n",
      "                                                                     'dense_1[9][0]']             \n",
      "                                                                                                  \n",
      " dot (Dot)                   (None, 1, 64)                0         ['attention_weights[0][0]',   \n",
      "                                                                     'bidirectional[0][0]',       \n",
      "                                                                     'attention_weights[1][0]',   \n",
      "                                                                     'bidirectional[0][0]',       \n",
      "                                                                     'attention_weights[2][0]',   \n",
      "                                                                     'bidirectional[0][0]',       \n",
      "                                                                     'attention_weights[3][0]',   \n",
      "                                                                     'bidirectional[0][0]',       \n",
      "                                                                     'attention_weights[4][0]',   \n",
      "                                                                     'bidirectional[0][0]',       \n",
      "                                                                     'attention_weights[5][0]',   \n",
      "                                                                     'bidirectional[0][0]',       \n",
      "                                                                     'attention_weights[6][0]',   \n",
      "                                                                     'bidirectional[0][0]',       \n",
      "                                                                     'attention_weights[7][0]',   \n",
      "                                                                     'bidirectional[0][0]',       \n",
      "                                                                     'attention_weights[8][0]',   \n",
      "                                                                     'bidirectional[0][0]',       \n",
      "                                                                     'attention_weights[9][0]',   \n",
      "                                                                     'bidirectional[0][0]']       \n",
      "                                                                                                  \n",
      " c0 (InputLayer)             [(None, 64)]                 0         []                            \n",
      "                                                                                                  \n",
      " lstm (LSTM)                 [(None, 64),                 33024     ['dot[0][0]',                 \n",
      "                              (None, 64),                            's0[0][0]',                  \n",
      "                              (None, 64)]                            'c0[0][0]',                  \n",
      "                                                                     'dot[1][0]',                 \n",
      "                                                                     'lstm[0][0]',                \n",
      "                                                                     'lstm[0][2]',                \n",
      "                                                                     'dot[2][0]',                 \n",
      "                                                                     'lstm[1][0]',                \n",
      "                                                                     'lstm[1][2]',                \n",
      "                                                                     'dot[3][0]',                 \n",
      "                                                                     'lstm[2][0]',                \n",
      "                                                                     'lstm[2][2]',                \n",
      "                                                                     'dot[4][0]',                 \n",
      "                                                                     'lstm[3][0]',                \n",
      "                                                                     'lstm[3][2]',                \n",
      "                                                                     'dot[5][0]',                 \n",
      "                                                                     'lstm[4][0]',                \n",
      "                                                                     'lstm[4][2]',                \n",
      "                                                                     'dot[6][0]',                 \n",
      "                                                                     'lstm[5][0]',                \n",
      "                                                                     'lstm[5][2]',                \n",
      "                                                                     'dot[7][0]',                 \n",
      "                                                                     'lstm[6][0]',                \n",
      "                                                                     'lstm[6][2]',                \n",
      "                                                                     'dot[8][0]',                 \n",
      "                                                                     'lstm[7][0]',                \n",
      "                                                                     'lstm[7][2]',                \n",
      "                                                                     'dot[9][0]',                 \n",
      "                                                                     'lstm[8][0]',                \n",
      "                                                                     'lstm[8][2]']                \n",
      "                                                                                                  \n",
      " dense_2 (Dense)             (None, 11)                   715       ['lstm[0][0]',                \n",
      "                                                                     'lstm[1][0]',                \n",
      "                                                                     'lstm[2][0]',                \n",
      "                                                                     'lstm[3][0]',                \n",
      "                                                                     'lstm[4][0]',                \n",
      "                                                                     'lstm[5][0]',                \n",
      "                                                                     'lstm[6][0]',                \n",
      "                                                                     'lstm[7][0]',                \n",
      "                                                                     'lstm[8][0]',                \n",
      "                                                                     'lstm[9][0]']                \n",
      "                                                                                                  \n",
      "==================================================================================================\n",
      "Total params: 52960 (206.88 KB)\n",
      "Trainable params: 52960 (206.88 KB)\n",
      "Non-trainable params: 0 (0.00 Byte)\n",
      "__________________________________________________________________________________________________\n"
     ]
    }
   ],
   "source": [
    "model.summary()\n"
   ]
  },
  {
   "cell_type": "code",
   "execution_count": 17,
   "metadata": {},
   "outputs": [],
   "source": [
    "opt = Adam(learning_rate=0.5, beta_1=0.9, beta_2=0.999, weight_decay=0.01) \n",
    "model.compile(loss='categorical_crossentropy', optimizer=opt,metrics=['accuracy'])\n"
   ]
  },
  {
   "cell_type": "code",
   "execution_count": 18,
   "metadata": {},
   "outputs": [],
   "source": [
    "s0 = np.zeros((m, n_s))\n",
    "c0 = np.zeros((m, n_s))\n",
    "outputs = list(Yoh.swapaxes(0,1))"
   ]
  },
  {
   "cell_type": "code",
   "execution_count": 19,
   "metadata": {},
   "outputs": [
    {
     "name": "stdout",
     "output_type": "stream",
     "text": [
      "100/100 [==============================] - 14s 28ms/step - loss: 29.0472 - dense_2_loss: 1.8951 - dense_2_1_loss: 2.1023 - dense_2_2_loss: 3.3982 - dense_2_3_loss: 3.8697 - dense_2_4_loss: 2.5195 - dense_2_5_loss: 2.3506 - dense_2_6_loss: 3.7969 - dense_2_7_loss: 2.3183 - dense_2_8_loss: 2.8711 - dense_2_9_loss: 3.9255 - dense_2_accuracy: 0.4667 - dense_2_1_accuracy: 0.4876 - dense_2_2_accuracy: 0.1460 - dense_2_3_accuracy: 0.0446 - dense_2_4_accuracy: 0.6238 - dense_2_5_accuracy: 0.1679 - dense_2_6_accuracy: 0.0391 - dense_2_7_accuracy: 0.6481 - dense_2_8_accuracy: 0.0824 - dense_2_9_accuracy: 0.0364\n"
     ]
    },
    {
     "data": {
      "text/plain": [
       "<keras.src.callbacks.History at 0x7f26cc978160>"
      ]
     },
     "execution_count": 19,
     "metadata": {},
     "output_type": "execute_result"
    }
   ],
   "source": [
    "model.fit([Xoh, s0, c0], outputs, epochs=1, batch_size=100)"
   ]
  },
  {
   "cell_type": "code",
   "execution_count": 20,
   "metadata": {},
   "outputs": [],
   "source": [
    "model.load_weights('models/model.h5')"
   ]
  },
  {
   "cell_type": "code",
   "execution_count": 24,
   "metadata": {},
   "outputs": [
    {
     "name": "stdout",
     "output_type": "stream",
     "text": [
      "1/1 [==============================] - 0s 17ms/step\n",
      "source: 3 May 1979\n",
      "output: 1979-05-33 \n",
      "\n",
      "1/1 [==============================] - 0s 17ms/step\n",
      "source: 5 April 09\n",
      "output: 2009-04-05 \n",
      "\n",
      "1/1 [==============================] - 0s 18ms/step\n",
      "source: 21th of August 2016\n",
      "output: 2016-08-20 \n",
      "\n",
      "1/1 [==============================] - 0s 19ms/step\n",
      "source: Tue 10 Jul 2007\n",
      "output: 2007-07-10 \n",
      "\n",
      "1/1 [==============================] - 0s 21ms/step\n",
      "source: Saturday May 9 2018\n",
      "output: 2018-05-09 \n",
      "\n",
      "1/1 [==============================] - 0s 20ms/step\n",
      "source: March 3 2001\n",
      "output: 2001-03-03 \n",
      "\n",
      "1/1 [==============================] - 0s 17ms/step\n",
      "source: March 3rd 2001\n",
      "output: 2001-03-03 \n",
      "\n",
      "1/1 [==============================] - 0s 22ms/step\n",
      "source: 1 March 2001\n",
      "output: 2001-03-01 \n",
      "\n"
     ]
    }
   ],
   "source": [
    "EXAMPLES = ['3 May 1979', '5 April 09', '21th of August 2016', 'Tue 10 Jul 2007', 'Saturday May 9 2018', 'March 3 2001', 'March 3rd 2001', '1 March 2001']\n",
    "s00 = np.zeros((1, n_s))\n",
    "c00 = np.zeros((1, n_s))\n",
    "for example in EXAMPLES:\n",
    "    source = string_to_int(example, Tx, human_vocab)\n",
    "    #print(source)\n",
    "    source = np.array(list(map(lambda x: to_categorical(x, num_classes=len(human_vocab)), source))).swapaxes(0,1)\n",
    "    source = np.swapaxes(source, 0, 1)\n",
    "    source = np.expand_dims(source, axis=0)\n",
    "    prediction = model.predict([source, s00, c00])\n",
    "    prediction = np.argmax(prediction, axis = -1)\n",
    "    output = [inv_machine_vocab[int(i)] for i in prediction]\n",
    "    print(\"source:\", example)\n",
    "    print(\"output:\", ''.join(output),\"\\n\")"
   ]
  },
  {
   "cell_type": "code",
   "execution_count": null,
   "metadata": {},
   "outputs": [
    {
     "name": "stdout",
     "output_type": "stream",
     "text": [
      "1/1 [==============================] - 2s 2s/step\n"
     ]
    },
    {
     "data": {
      "text/plain": [
       "<Figure size 640x480 with 0 Axes>"
      ]
     },
     "metadata": {},
     "output_type": "display_data"
    },
    {
     "data": {
      "image/png": "[encoded data removed]",
      "text/plain": [
       "<Figure size 800x850 with 2 Axes>"
      ]
     },
     "metadata": {},
     "output_type": "display_data"
    }
   ],
   "source": [
    "attention_map = plot_attention_map(model, human_vocab, inv_machine_vocab, \"Tuesday 09 Oct 1993\", num = 7, n_s = 64)"
   ]
  },
  {
   "cell_type": "code",
   "execution_count": null,
   "metadata": {},
   "outputs": [],
   "source": []
  },
  {
   "cell_type": "code",
   "execution_count": null,
   "metadata": {},
   "outputs": [],
   "source": []
  }
 ],
 "metadata": {
  "kernelspec": {
   "display_name": "env_ai",
   "language": "python",
   "name": "python3"
  },
  "language_info": {
   "codemirror_mode": {
    "name": "ipython",
    "version": 3
   },
   "file_extension": ".py",
   "mimetype": "text/x-python",
   "name": "python",
   "nbconvert_exporter": "python",
   "pygments_lexer": "ipython3",
   "version": "3.10.12"
  },
  "orig_nbformat": 4
 },
 "nbformat": 4,
 "nbformat_minor": 2
}
